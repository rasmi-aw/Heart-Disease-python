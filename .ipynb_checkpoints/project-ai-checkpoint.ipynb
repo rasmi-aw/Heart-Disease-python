{
 "cells": [
  {
   "cell_type": "markdown",
   "id": "99607cd2",
   "metadata": {},
   "source": [
    "# This project is done by AbdelOuadoud Rasmi\n",
    "### The goal of this program is to run some supervised learning\n",
    "### algorithms on a real case DATASET of heart disease infection\n",
    "### to predict if the new individual will be affected or not\n",
    "\n"
   ]
  },
  {
   "cell_type": "code",
   "execution_count": 326,
   "id": "de420fc5",
   "metadata": {},
   "outputs": [
    {
     "name": "stderr",
     "output_type": "stream",
     "text": [
      "[nltk_data] Downloading package punkt to\n",
      "[nltk_data]     C:\\Users\\LENOVO\\AppData\\Roaming\\nltk_data...\n",
      "[nltk_data]   Package punkt is already up-to-date!\n",
      "[nltk_data] Downloading package averaged_perceptron_tagger to\n",
      "[nltk_data]     C:\\Users\\LENOVO\\AppData\\Roaming\\nltk_data...\n",
      "[nltk_data]   Package averaged_perceptron_tagger is already up-to-\n",
      "[nltk_data]       date!\n",
      "[nltk_data] Downloading package wordnet to\n",
      "[nltk_data]     C:\\Users\\LENOVO\\AppData\\Roaming\\nltk_data...\n",
      "[nltk_data]   Package wordnet is already up-to-date!\n"
     ]
    }
   ],
   "source": [
    "#importing Needed libraries \n",
    "import pandas as pandas\n",
    "\n",
    "import numpy as np\n",
    "\n",
    "#used to visualise data\n",
    "import seaborn as sns\n",
    "\n",
    "#for text pre-processing\n",
    "import re, string\n",
    "import nltk\n",
    "from nltk.tokenize import word_tokenize\n",
    "from nltk.corpus import stopwords\n",
    "from nltk.tokenize import word_tokenize\n",
    "from nltk.stem import SnowballStemmer\n",
    "from nltk.corpus import wordnet\n",
    "from nltk.stem import WordNetLemmatizer\n",
    "nltk.download('punkt')\n",
    "nltk.download('averaged_perceptron_tagger')\n",
    "nltk.download('wordnet')\n",
    "#for model-building\n",
    "from sklearn.model_selection import train_test_split\n",
    "from sklearn.linear_model import LogisticRegression\n",
    "from sklearn.naive_bayes import MultinomialNB\n",
    "from sklearn.metrics import classification_report, f1_score, accuracy_score, confusion_matrix\n",
    "from sklearn.metrics import roc_curve, auc, roc_auc_score\n",
    "# bag of words\n",
    "from sklearn.feature_extraction.text import TfidfVectorizer\n",
    "from sklearn.feature_extraction.text import CountVectorizer\n",
    "#for word embedding\n",
    "import gensim\n",
    "from gensim.models import Word2Vec"
   ]
  },
  {
   "cell_type": "code",
   "execution_count": 327,
   "id": "cfbc1e91",
   "metadata": {},
   "outputs": [
    {
     "name": "stdout",
     "output_type": "stream",
     "text": [
      "     Age   Sex ChestPainType  RestingBP  Cholesterol  FastingBS RestingECG  \\\n",
      "0     40  .M,.           ATA        140          289          0   NorM@al;   \n",
      "1     49     F           NAP        160          180          0     Normal   \n",
      "2     37  .M,.           ATA        130          283          0        ST.   \n",
      "3     48     F           ASY        138          214          0     Normal   \n",
      "4     54     M           NAP        150          195          0     Normal   \n",
      "..   ...   ...           ...        ...          ...        ...        ...   \n",
      "913   45     M            TA        110          264          0   NorM@al;   \n",
      "914   68     M           ASY        144          193          1     Normal   \n",
      "915   57     M           ASY        130          131          0     Normal   \n",
      "916   57     F           ATA        130          236          0        LVH   \n",
      "917   38     M           NAP        138          175          0   NorM@al;   \n",
      "\n",
      "     MaxHR ExerciseAngina  Oldpeak ST_Slope  HeartDisease  \n",
      "0      172              N      0.0       Up             0  \n",
      "1      156              N      1.0     Flat             1  \n",
      "2       98              N      0.0       UP             0  \n",
      "3      108              Y      1.5     Flat             1  \n",
      "4      122              N      0.0       Up             0  \n",
      "..     ...            ...      ...      ...           ...  \n",
      "913    132              N      1.2     Flat             1  \n",
      "914    141              N      3.4     Flat             1  \n",
      "915    115              Y      1.2     Flat             1  \n",
      "916    174              N      0.0     Flat             1  \n",
      "917    173              N      0.0       Up             0  \n",
      "\n",
      "[918 rows x 12 columns]\n"
     ]
    }
   ],
   "source": [
    "# improting unstructured data set as csv\n",
    "dataSet = pandas.read_csv(\"heart.csv\")\n",
    "print(dataSet)"
   ]
  },
  {
   "cell_type": "markdown",
   "id": "2dc7ac83",
   "metadata": {},
   "source": [
    "# in the next part i will import it and treat it before appliying supervised learning algorithms on it\n",
    "\n",
    "\n",
    "\n",
    "### After making some researches it seems that FastingBS has no influence on HeartDiseases infection or not"
   ]
  },
  {
   "cell_type": "code",
   "execution_count": 328,
   "id": "f9a5f98c",
   "metadata": {},
   "outputs": [
    {
     "data": {
      "text/html": [
       "<div>\n",
       "<style scoped>\n",
       "    .dataframe tbody tr th:only-of-type {\n",
       "        vertical-align: middle;\n",
       "    }\n",
       "\n",
       "    .dataframe tbody tr th {\n",
       "        vertical-align: top;\n",
       "    }\n",
       "\n",
       "    .dataframe thead th {\n",
       "        text-align: right;\n",
       "    }\n",
       "</style>\n",
       "<table border=\"1\" class=\"dataframe\">\n",
       "  <thead>\n",
       "    <tr style=\"text-align: right;\">\n",
       "      <th></th>\n",
       "      <th>Age</th>\n",
       "      <th>Sex</th>\n",
       "      <th>RestingBP</th>\n",
       "      <th>Cholesterol</th>\n",
       "      <th>RestingECG</th>\n",
       "      <th>MaxHR</th>\n",
       "      <th>ExerciseAngina</th>\n",
       "      <th>Oldpeak</th>\n",
       "      <th>ST_Slope</th>\n",
       "      <th>HeartDisease</th>\n",
       "    </tr>\n",
       "  </thead>\n",
       "  <tbody>\n",
       "    <tr>\n",
       "      <th>0</th>\n",
       "      <td>40</td>\n",
       "      <td>.M,.</td>\n",
       "      <td>140</td>\n",
       "      <td>289</td>\n",
       "      <td>NorM@al;</td>\n",
       "      <td>172</td>\n",
       "      <td>N</td>\n",
       "      <td>0.0</td>\n",
       "      <td>Up</td>\n",
       "      <td>0</td>\n",
       "    </tr>\n",
       "    <tr>\n",
       "      <th>1</th>\n",
       "      <td>49</td>\n",
       "      <td>F</td>\n",
       "      <td>160</td>\n",
       "      <td>180</td>\n",
       "      <td>Normal</td>\n",
       "      <td>156</td>\n",
       "      <td>N</td>\n",
       "      <td>1.0</td>\n",
       "      <td>Flat</td>\n",
       "      <td>1</td>\n",
       "    </tr>\n",
       "    <tr>\n",
       "      <th>2</th>\n",
       "      <td>37</td>\n",
       "      <td>.M,.</td>\n",
       "      <td>130</td>\n",
       "      <td>283</td>\n",
       "      <td>ST.</td>\n",
       "      <td>98</td>\n",
       "      <td>N</td>\n",
       "      <td>0.0</td>\n",
       "      <td>UP</td>\n",
       "      <td>0</td>\n",
       "    </tr>\n",
       "    <tr>\n",
       "      <th>3</th>\n",
       "      <td>48</td>\n",
       "      <td>F</td>\n",
       "      <td>138</td>\n",
       "      <td>214</td>\n",
       "      <td>Normal</td>\n",
       "      <td>108</td>\n",
       "      <td>Y</td>\n",
       "      <td>1.5</td>\n",
       "      <td>Flat</td>\n",
       "      <td>1</td>\n",
       "    </tr>\n",
       "    <tr>\n",
       "      <th>4</th>\n",
       "      <td>54</td>\n",
       "      <td>M</td>\n",
       "      <td>150</td>\n",
       "      <td>195</td>\n",
       "      <td>Normal</td>\n",
       "      <td>122</td>\n",
       "      <td>N</td>\n",
       "      <td>0.0</td>\n",
       "      <td>Up</td>\n",
       "      <td>0</td>\n",
       "    </tr>\n",
       "    <tr>\n",
       "      <th>...</th>\n",
       "      <td>...</td>\n",
       "      <td>...</td>\n",
       "      <td>...</td>\n",
       "      <td>...</td>\n",
       "      <td>...</td>\n",
       "      <td>...</td>\n",
       "      <td>...</td>\n",
       "      <td>...</td>\n",
       "      <td>...</td>\n",
       "      <td>...</td>\n",
       "    </tr>\n",
       "    <tr>\n",
       "      <th>913</th>\n",
       "      <td>45</td>\n",
       "      <td>M</td>\n",
       "      <td>110</td>\n",
       "      <td>264</td>\n",
       "      <td>NorM@al;</td>\n",
       "      <td>132</td>\n",
       "      <td>N</td>\n",
       "      <td>1.2</td>\n",
       "      <td>Flat</td>\n",
       "      <td>1</td>\n",
       "    </tr>\n",
       "    <tr>\n",
       "      <th>914</th>\n",
       "      <td>68</td>\n",
       "      <td>M</td>\n",
       "      <td>144</td>\n",
       "      <td>193</td>\n",
       "      <td>Normal</td>\n",
       "      <td>141</td>\n",
       "      <td>N</td>\n",
       "      <td>3.4</td>\n",
       "      <td>Flat</td>\n",
       "      <td>1</td>\n",
       "    </tr>\n",
       "    <tr>\n",
       "      <th>915</th>\n",
       "      <td>57</td>\n",
       "      <td>M</td>\n",
       "      <td>130</td>\n",
       "      <td>131</td>\n",
       "      <td>Normal</td>\n",
       "      <td>115</td>\n",
       "      <td>Y</td>\n",
       "      <td>1.2</td>\n",
       "      <td>Flat</td>\n",
       "      <td>1</td>\n",
       "    </tr>\n",
       "    <tr>\n",
       "      <th>916</th>\n",
       "      <td>57</td>\n",
       "      <td>F</td>\n",
       "      <td>130</td>\n",
       "      <td>236</td>\n",
       "      <td>LVH</td>\n",
       "      <td>174</td>\n",
       "      <td>N</td>\n",
       "      <td>0.0</td>\n",
       "      <td>Flat</td>\n",
       "      <td>1</td>\n",
       "    </tr>\n",
       "    <tr>\n",
       "      <th>917</th>\n",
       "      <td>38</td>\n",
       "      <td>M</td>\n",
       "      <td>138</td>\n",
       "      <td>175</td>\n",
       "      <td>NorM@al;</td>\n",
       "      <td>173</td>\n",
       "      <td>N</td>\n",
       "      <td>0.0</td>\n",
       "      <td>Up</td>\n",
       "      <td>0</td>\n",
       "    </tr>\n",
       "  </tbody>\n",
       "</table>\n",
       "<p>918 rows × 10 columns</p>\n",
       "</div>"
      ],
      "text/plain": [
       "     Age   Sex  RestingBP  Cholesterol RestingECG  MaxHR ExerciseAngina  \\\n",
       "0     40  .M,.        140          289   NorM@al;    172              N   \n",
       "1     49     F        160          180     Normal    156              N   \n",
       "2     37  .M,.        130          283        ST.     98              N   \n",
       "3     48     F        138          214     Normal    108              Y   \n",
       "4     54     M        150          195     Normal    122              N   \n",
       "..   ...   ...        ...          ...        ...    ...            ...   \n",
       "913   45     M        110          264   NorM@al;    132              N   \n",
       "914   68     M        144          193     Normal    141              N   \n",
       "915   57     M        130          131     Normal    115              Y   \n",
       "916   57     F        130          236        LVH    174              N   \n",
       "917   38     M        138          175   NorM@al;    173              N   \n",
       "\n",
       "     Oldpeak ST_Slope  HeartDisease  \n",
       "0        0.0       Up             0  \n",
       "1        1.0     Flat             1  \n",
       "2        0.0       UP             0  \n",
       "3        1.5     Flat             1  \n",
       "4        0.0       Up             0  \n",
       "..       ...      ...           ...  \n",
       "913      1.2     Flat             1  \n",
       "914      3.4     Flat             1  \n",
       "915      1.2     Flat             1  \n",
       "916      0.0     Flat             1  \n",
       "917      0.0       Up             0  \n",
       "\n",
       "[918 rows x 10 columns]"
      ]
     },
     "execution_count": 328,
     "metadata": {},
     "output_type": "execute_result"
    }
   ],
   "source": [
    "#deleting FastingBS and ChestPainType column since it has no influence on classification\n",
    "dataSet = pandas.read_csv(\"heart.csv\")\n",
    "dataSet.drop(['FastingBS','ChestPainType'], axis=1)"
   ]
  },
  {
   "cell_type": "markdown",
   "id": "1f322e23",
   "metadata": {},
   "source": [
    "# Checking if there's any missing value in our dataset"
   ]
  },
  {
   "cell_type": "code",
   "execution_count": 329,
   "id": "6804b60d",
   "metadata": {},
   "outputs": [
    {
     "data": {
      "text/plain": [
       "Age               0\n",
       "Sex               0\n",
       "ChestPainType     0\n",
       "RestingBP         0\n",
       "Cholesterol       0\n",
       "FastingBS         0\n",
       "RestingECG        0\n",
       "MaxHR             0\n",
       "ExerciseAngina    0\n",
       "Oldpeak           0\n",
       "ST_Slope          0\n",
       "HeartDisease      0\n",
       "dtype: int64"
      ]
     },
     "execution_count": 329,
     "metadata": {},
     "output_type": "execute_result"
    }
   ],
   "source": [
    "#printing Nan values for each attribute \n",
    "dataSet.isna().sum()"
   ]
  },
  {
   "cell_type": "markdown",
   "id": "51674b92",
   "metadata": {},
   "source": [
    "# Now the next step will be comparing the two classes we have to know how much is this dataset fair to use"
   ]
  },
  {
   "cell_type": "code",
   "execution_count": 330,
   "id": "ab81bc3e",
   "metadata": {},
   "outputs": [
    {
     "name": "stdout",
     "output_type": "stream",
     "text": [
      "1    508\n",
      "0    410\n",
      "Name: HeartDisease, dtype: int64\n"
     ]
    },
    {
     "name": "stderr",
     "output_type": "stream",
     "text": [
      "C:\\Users\\LENOVO\\AppData\\Local\\Programs\\Python\\Python38\\lib\\site-packages\\seaborn\\_decorators.py:36: FutureWarning: Pass the following variables as keyword args: x, y. From version 0.12, the only valid positional argument will be `data`, and passing other arguments without an explicit keyword will result in an error or misinterpretation.\n",
      "  warnings.warn(\n"
     ]
    },
    {
     "data": {
      "text/plain": [
       "<AxesSubplot:ylabel='HeartDisease'>"
      ]
     },
     "execution_count": 330,
     "metadata": {},
     "output_type": "execute_result"
    },
    {
     "data": {
      "image/png": "[encoded data removed]",
      "text/plain": [
       "<Figure size 432x288 with 1 Axes>"
      ]
     },
     "metadata": {
      "needs_background": "light"
     },
     "output_type": "display_data"
    }
   ],
   "source": [
    "\n",
    "column=dataSet['HeartDisease'].value_counts()\n",
    "print(column)\n",
    "\n",
    "sns.barplot(column.index,column)"
   ]
  },
  {
   "cell_type": "markdown",
   "id": "b94dcd3e",
   "metadata": {},
   "source": [
    "## Now we need to Normalise our dataset to give it to Learning Algorithms\n"
   ]
  },
  {
   "cell_type": "markdown",
   "id": "78bd7aa1",
   "metadata": {},
   "source": [
    "#### 1-First we normalize Age attribute"
   ]
  },
  {
   "cell_type": "code",
   "execution_count": 331,
   "id": "adda60ae",
   "metadata": {},
   "outputs": [
    {
     "name": "stderr",
     "output_type": "stream",
     "text": [
      "C:\\Users\\LENOVO\\AppData\\Local\\Programs\\Python\\Python38\\lib\\site-packages\\pandas\\core\\indexing.py:1732: SettingWithCopyWarning: \n",
      "A value is trying to be set on a copy of a slice from a DataFrame\n",
      "\n",
      "See the caveats in the documentation: https://pandas.pydata.org/pandas-docs/stable/user_guide/indexing.html#returning-a-view-versus-a-copy\n",
      "  self._setitem_single_block(indexer, value, name)\n"
     ]
    }
   ],
   "source": [
    "#normalizing Age attribute\n",
    "age_column = dataSet[\"Age\"]\n",
    "max_age = age_column.max()\n",
    "min_age = age_column.min()\n",
    "age_diff = max_age - min_age\n",
    "\n",
    "k = 0\n",
    "for cell in age_column:\n",
    "    new_value = (cell - min_age)/age_diff   \n",
    "    age_column.loc[k] = new_value\n",
    "    k = k+1\n",
    "\n"
   ]
  },
  {
   "cell_type": "markdown",
   "id": "bfef359f",
   "metadata": {},
   "source": [
    "#### 2-Second we normalize RestingBP attribute"
   ]
  },
  {
   "cell_type": "code",
   "execution_count": 332,
   "id": "58390430",
   "metadata": {},
   "outputs": [],
   "source": [
    "#normalizing RestingBp\n",
    "rbp_column = dataSet[\"RestingBP\"]\n",
    "max_rbp = rbp_column.max()\n",
    "min_rbp = rbp_column.min()\n",
    "rbp_diff = max_rbp - min_rbp\n",
    "\n",
    "k = 0\n",
    "for cell in rbp_column:\n",
    "    new_value = (cell - min_rbp)/rbp_diff   \n",
    "    rbp_column.loc[k] = new_value\n",
    "    k = k+1\n"
   ]
  },
  {
   "cell_type": "markdown",
   "id": "6c0e66f3",
   "metadata": {},
   "source": [
    "#### 3- Third we normalize the Cholesterol attribute"
   ]
  },
  {
   "cell_type": "code",
   "execution_count": 333,
   "id": "56846fb1",
   "metadata": {},
   "outputs": [],
   "source": [
    "#normalizing Cholesterol\n",
    "chol_column = dataSet[\"Cholesterol\"]\n",
    "max_chol = chol_column.max()\n",
    "min_chol = chol_column.min()\n",
    "chol_diff = max_chol - min_chol\n",
    "\n",
    "k = 0\n",
    "for cell in chol_column:\n",
    "    new_value = (cell - min_chol)/chol_diff   \n",
    "    chol_column.loc[k] = new_value\n",
    "    k = k+1"
   ]
  },
  {
   "cell_type": "markdown",
   "id": "ef45b09d",
   "metadata": {},
   "source": [
    "#### 4-We print the data set now"
   ]
  },
  {
   "cell_type": "code",
   "execution_count": 334,
   "id": "d36878de",
   "metadata": {},
   "outputs": [
    {
     "name": "stdout",
     "output_type": "stream",
     "text": [
      "          Age   Sex ChestPainType  RestingBP  Cholesterol  FastingBS  \\\n",
      "0    0.244898  .M,.           ATA       0.70     0.479270          0   \n",
      "1    0.428571     F           NAP       0.80     0.298507          0   \n",
      "2    0.183673  .M,.           ATA       0.65     0.469320          0   \n",
      "3    0.408163     F           ASY       0.69     0.354892          0   \n",
      "4    0.530612     M           NAP       0.75     0.323383          0   \n",
      "..        ...   ...           ...        ...          ...        ...   \n",
      "913  0.346939     M            TA       0.55     0.437811          0   \n",
      "914  0.816327     M           ASY       0.72     0.320066          1   \n",
      "915  0.591837     M           ASY       0.65     0.217247          0   \n",
      "916  0.591837     F           ATA       0.65     0.391376          0   \n",
      "917  0.204082     M           NAP       0.69     0.290216          0   \n",
      "\n",
      "    RestingECG  MaxHR ExerciseAngina  Oldpeak ST_Slope  HeartDisease  \n",
      "0     NorM@al;    172              N      0.0       Up             0  \n",
      "1       Normal    156              N      1.0     Flat             1  \n",
      "2          ST.     98              N      0.0       UP             0  \n",
      "3       Normal    108              Y      1.5     Flat             1  \n",
      "4       Normal    122              N      0.0       Up             0  \n",
      "..         ...    ...            ...      ...      ...           ...  \n",
      "913   NorM@al;    132              N      1.2     Flat             1  \n",
      "914     Normal    141              N      3.4     Flat             1  \n",
      "915     Normal    115              Y      1.2     Flat             1  \n",
      "916        LVH    174              N      0.0     Flat             1  \n",
      "917   NorM@al;    173              N      0.0       Up             0  \n",
      "\n",
      "[918 rows x 12 columns]\n"
     ]
    }
   ],
   "source": [
    "print(dataSet)"
   ]
  },
  {
   "cell_type": "markdown",
   "id": "82d246c9",
   "metadata": {},
   "source": [
    "## Now We recognize some malformed Textual Data for example \"NORMAL\" is the same as \"NorM@al;\" and \"up\" is the same as \"UP,\"\n",
    "\n",
    "\n",
    "### then we need to fix all textual attributes"
   ]
  },
  {
   "cell_type": "code",
   "execution_count": 335,
   "id": "8f8a37dc",
   "metadata": {},
   "outputs": [
    {
     "name": "stderr",
     "output_type": "stream",
     "text": [
      "C:\\Users\\LENOVO\\AppData\\Local\\Programs\\Python\\Python38\\lib\\site-packages\\pandas\\core\\indexing.py:1732: SettingWithCopyWarning: \n",
      "A value is trying to be set on a copy of a slice from a DataFrame\n",
      "\n",
      "See the caveats in the documentation: https://pandas.pydata.org/pandas-docs/stable/user_guide/indexing.html#returning-a-view-versus-a-copy\n",
      "  self._setitem_single_block(indexer, value, name)\n"
     ]
    },
    {
     "data": {
      "text/plain": [
       "numpy.void"
      ]
     },
     "execution_count": 335,
     "metadata": {},
     "output_type": "execute_result"
    }
   ],
   "source": [
    "#replacing bad characters like @ ; , . ext...\n",
    "restingecg_column = dataSet[\"RestingECG\"]\n",
    "chestpain_column=dataSet[\"ChestPainType\"]\n",
    "sex_column = dataSet[\"Sex\"]\n",
    "stslope_column = dataSet[\"ST_Slope\"]\n",
    "exercieangina_column = dataSet[\"ExerciseAngina\"]\n",
    "\n",
    "### this method cleans teh text from unwated characters and transforms it to lower case\n",
    "def cleanText(cell):\n",
    "    string = str(cell).lower()\n",
    "    #\n",
    "    string = string.replace(\".\",\"\")\n",
    "    #\n",
    "    string = string.replace(\",\",\"\") \n",
    "    #\n",
    "    string = string.replace(\"@\",\"\")    \n",
    "    #\n",
    "    string = string.replace(\";\",\"\")       \n",
    "    return string\n",
    "\n",
    "### this method edit a column\n",
    "def cleanColumn(column):\n",
    "      k = 0\n",
    "      for cell in column:\n",
    "            column.loc[k] = cleanText(cell)\n",
    "            k = k + 1\n",
    "      return np.void\n",
    "\n",
    "k = 0\n",
    "\n",
    "#restingECG column cleaning\n",
    "cleanColumn(restingecg_column)\n",
    "#chestPain column cleaning\n",
    "cleanColumn(chestpain_column)\n",
    "#SEX column cleaning\n",
    "cleanColumn(sex_column)\n",
    "#ST_Slope column cleaning\n",
    "cleanColumn(stslope_column)\n",
    "#ExerciseAngina column cleaning\n",
    "cleanColumn(exercieangina_column)\n",
    "  "
   ]
  },
  {
   "cell_type": "markdown",
   "id": "9d19ac6a",
   "metadata": {},
   "source": [
    "## And we print the dataset again"
   ]
  },
  {
   "cell_type": "code",
   "execution_count": 336,
   "id": "b812dc07",
   "metadata": {},
   "outputs": [
    {
     "name": "stdout",
     "output_type": "stream",
     "text": [
      "          Age Sex ChestPainType  RestingBP  Cholesterol  FastingBS RestingECG  \\\n",
      "0    0.244898   m           ata       0.70     0.479270          0     normal   \n",
      "1    0.428571   f           nap       0.80     0.298507          0     normal   \n",
      "2    0.183673   m           ata       0.65     0.469320          0         st   \n",
      "3    0.408163   f           asy       0.69     0.354892          0     normal   \n",
      "4    0.530612   m           nap       0.75     0.323383          0     normal   \n",
      "..        ...  ..           ...        ...          ...        ...        ...   \n",
      "913  0.346939   m            ta       0.55     0.437811          0     normal   \n",
      "914  0.816327   m           asy       0.72     0.320066          1     normal   \n",
      "915  0.591837   m           asy       0.65     0.217247          0     normal   \n",
      "916  0.591837   f           ata       0.65     0.391376          0        lvh   \n",
      "917  0.204082   m           nap       0.69     0.290216          0     normal   \n",
      "\n",
      "     MaxHR ExerciseAngina  Oldpeak ST_Slope  HeartDisease  \n",
      "0      172              n      0.0       up             0  \n",
      "1      156              n      1.0     flat             1  \n",
      "2       98              n      0.0       up             0  \n",
      "3      108              y      1.5     flat             1  \n",
      "4      122              n      0.0       up             0  \n",
      "..     ...            ...      ...      ...           ...  \n",
      "913    132              n      1.2     flat             1  \n",
      "914    141              n      3.4     flat             1  \n",
      "915    115              y      1.2     flat             1  \n",
      "916    174              n      0.0     flat             1  \n",
      "917    173              n      0.0       up             0  \n",
      "\n",
      "[918 rows x 12 columns]\n"
     ]
    }
   ],
   "source": [
    "print(dataSet)"
   ]
  },
  {
   "cell_type": "markdown",
   "id": "405565b1",
   "metadata": {},
   "source": [
    "# Now we will apply learning algorithms on our dataset"
   ]
  }
 ],
 "metadata": {
  "kernelspec": {
   "display_name": "Python 3 (ipykernel)",
   "language": "python",
   "name": "python3"
  },
  "language_info": {
   "codemirror_mode": {
    "name": "ipython",
    "version": 3
   },
   "file_extension": ".py",
   "mimetype": "text/x-python",
   "name": "python",
   "nbconvert_exporter": "python",
   "pygments_lexer": "ipython3",
   "version": "3.8.10"
  }
 },
 "nbformat": 4,
 "nbformat_minor": 5
}
