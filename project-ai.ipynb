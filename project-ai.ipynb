{
 "cells": [
  {
   "cell_type": "markdown",
   "id": "99607cd2",
   "metadata": {},
   "source": [
    "# This project is done by AbdelOuadoud Rasmi\n",
    "### The goal of this program is to run some supervised learning\n",
    "### algorithms on a real case DATASET of heart disease infection\n",
    "### to predict if the new individual will be affected or not\n",
    "\n"
   ]
  },
  {
   "cell_type": "code",
   "execution_count": 102,
   "id": "de420fc5",
   "metadata": {},
   "outputs": [
    {
     "name": "stderr",
     "output_type": "stream",
     "text": [
      "[nltk_data] Downloading package punkt to\n",
      "[nltk_data]     C:\\Users\\LENOVO\\AppData\\Roaming\\nltk_data...\n",
      "[nltk_data]   Package punkt is already up-to-date!\n",
      "[nltk_data] Downloading package averaged_perceptron_tagger to\n",
      "[nltk_data]     C:\\Users\\LENOVO\\AppData\\Roaming\\nltk_data...\n",
      "[nltk_data]   Package averaged_perceptron_tagger is already up-to-\n",
      "[nltk_data]       date!\n",
      "[nltk_data] Downloading package wordnet to\n",
      "[nltk_data]     C:\\Users\\LENOVO\\AppData\\Roaming\\nltk_data...\n",
      "[nltk_data]   Package wordnet is already up-to-date!\n"
     ]
    }
   ],
   "source": [
    "#importing Needed libraries \n",
    "import pandas as pandas\n",
    "\n",
    "import numpy as np\n",
    "\n",
    "#used to visualise data\n",
    "import seaborn as sns\n",
    "\n",
    "#for text pre-processing\n",
    "import re, string\n",
    "import nltk\n",
    "from nltk.tokenize import word_tokenize\n",
    "from nltk.corpus import stopwords\n",
    "from nltk.tokenize import word_tokenize\n",
    "from nltk.stem import SnowballStemmer\n",
    "from nltk.corpus import wordnet\n",
    "from nltk.stem import WordNetLemmatizer\n",
    "nltk.download('punkt')\n",
    "nltk.download('averaged_perceptron_tagger')\n",
    "nltk.download('wordnet')\n",
    "#for model-building\n",
    "from sklearn.model_selection import train_test_split\n",
    "from sklearn.linear_model import LogisticRegression\n",
    "from sklearn.naive_bayes import MultinomialNB\n",
    "from sklearn.metrics import classification_report, f1_score, accuracy_score, confusion_matrix\n",
    "from sklearn.metrics import roc_curve, auc, roc_auc_score\n",
    "# bag of words\n",
    "from sklearn.feature_extraction.text import TfidfVectorizer\n",
    "from sklearn.feature_extraction.text import CountVectorizer\n",
    "#for word embedding\n",
    "import gensim\n",
    "from gensim.models import Word2Vec"
   ]
  },
  {
   "cell_type": "code",
   "execution_count": 103,
   "id": "cfbc1e91",
   "metadata": {},
   "outputs": [
    {
     "name": "stdout",
     "output_type": "stream",
     "text": [
      "     Age   Sex ChestPainType  RestingBP  Cholesterol  FastingBS RestingECG  \\\n",
      "0     40  .M,.           ATA        140          289          0   NorM@al;   \n",
      "1     49     F           NAP        160          180          0     Normal   \n",
      "2     37  .M,.           ATA        130          283          0        ST.   \n",
      "3     48     F           ASY        138          214          0     Normal   \n",
      "4     54     M           NAP        150          195          0     Normal   \n",
      "..   ...   ...           ...        ...          ...        ...        ...   \n",
      "870   71     F           ATA        160          302          0     Normal   \n",
      "871   61     M           NAP        150          243          1     Normal   \n",
      "872   55     M           ASY        132          353          0     Normal   \n",
      "873   64     M           NAP        140          335          0     Normal   \n",
      "874   43     M           ASY        150          247          0     Normal   \n",
      "\n",
      "     MaxHR ExerciseAngina  Oldpeak ST_Slope  HeartDisease  \n",
      "0      172              N      0.0       Up             0  \n",
      "1      156              N      1.0     Flat             1  \n",
      "2       98              N      0.0       UP             0  \n",
      "3      108              Y      1.5     Flat             1  \n",
      "4      122              N      0.0       Up             0  \n",
      "..     ...            ...      ...      ...           ...  \n",
      "870    162              N      0.4       Up             0  \n",
      "871    137              Y      1.0     Flat             0  \n",
      "872    132              Y      1.2     Flat             1  \n",
      "873    158              N      0.0       Up             1  \n",
      "874    171              N      1.5       Up             0  \n",
      "\n",
      "[875 rows x 12 columns]\n"
     ]
    }
   ],
   "source": [
    "# improting unstructured data set as csv\n",
    "dataSet = pandas.read_csv(\"heart.csv\")\n",
    "print(dataSet)"
   ]
  },
  {
   "cell_type": "markdown",
   "id": "2dc7ac83",
   "metadata": {},
   "source": [
    "# in the next part i will import it and treat it before appliying supervised learning algorithms on it\n",
    "\n",
    "\n",
    "\n",
    "### After making some researches it seems that FastingBS has no influence on HeartDiseases infection or not"
   ]
  },
  {
   "cell_type": "code",
   "execution_count": 104,
   "id": "f9a5f98c",
   "metadata": {},
   "outputs": [
    {
     "data": {
      "text/html": [
       "<div>\n",
       "<style scoped>\n",
       "    .dataframe tbody tr th:only-of-type {\n",
       "        vertical-align: middle;\n",
       "    }\n",
       "\n",
       "    .dataframe tbody tr th {\n",
       "        vertical-align: top;\n",
       "    }\n",
       "\n",
       "    .dataframe thead th {\n",
       "        text-align: right;\n",
       "    }\n",
       "</style>\n",
       "<table border=\"1\" class=\"dataframe\">\n",
       "  <thead>\n",
       "    <tr style=\"text-align: right;\">\n",
       "      <th></th>\n",
       "      <th>Age</th>\n",
       "      <th>Sex</th>\n",
       "      <th>RestingBP</th>\n",
       "      <th>Cholesterol</th>\n",
       "      <th>RestingECG</th>\n",
       "      <th>MaxHR</th>\n",
       "      <th>ExerciseAngina</th>\n",
       "      <th>Oldpeak</th>\n",
       "      <th>ST_Slope</th>\n",
       "      <th>HeartDisease</th>\n",
       "    </tr>\n",
       "  </thead>\n",
       "  <tbody>\n",
       "    <tr>\n",
       "      <th>0</th>\n",
       "      <td>40</td>\n",
       "      <td>.M,.</td>\n",
       "      <td>140</td>\n",
       "      <td>289</td>\n",
       "      <td>NorM@al;</td>\n",
       "      <td>172</td>\n",
       "      <td>N</td>\n",
       "      <td>0.0</td>\n",
       "      <td>Up</td>\n",
       "      <td>0</td>\n",
       "    </tr>\n",
       "    <tr>\n",
       "      <th>1</th>\n",
       "      <td>49</td>\n",
       "      <td>F</td>\n",
       "      <td>160</td>\n",
       "      <td>180</td>\n",
       "      <td>Normal</td>\n",
       "      <td>156</td>\n",
       "      <td>N</td>\n",
       "      <td>1.0</td>\n",
       "      <td>Flat</td>\n",
       "      <td>1</td>\n",
       "    </tr>\n",
       "    <tr>\n",
       "      <th>2</th>\n",
       "      <td>37</td>\n",
       "      <td>.M,.</td>\n",
       "      <td>130</td>\n",
       "      <td>283</td>\n",
       "      <td>ST.</td>\n",
       "      <td>98</td>\n",
       "      <td>N</td>\n",
       "      <td>0.0</td>\n",
       "      <td>UP</td>\n",
       "      <td>0</td>\n",
       "    </tr>\n",
       "    <tr>\n",
       "      <th>3</th>\n",
       "      <td>48</td>\n",
       "      <td>F</td>\n",
       "      <td>138</td>\n",
       "      <td>214</td>\n",
       "      <td>Normal</td>\n",
       "      <td>108</td>\n",
       "      <td>Y</td>\n",
       "      <td>1.5</td>\n",
       "      <td>Flat</td>\n",
       "      <td>1</td>\n",
       "    </tr>\n",
       "    <tr>\n",
       "      <th>4</th>\n",
       "      <td>54</td>\n",
       "      <td>M</td>\n",
       "      <td>150</td>\n",
       "      <td>195</td>\n",
       "      <td>Normal</td>\n",
       "      <td>122</td>\n",
       "      <td>N</td>\n",
       "      <td>0.0</td>\n",
       "      <td>Up</td>\n",
       "      <td>0</td>\n",
       "    </tr>\n",
       "    <tr>\n",
       "      <th>...</th>\n",
       "      <td>...</td>\n",
       "      <td>...</td>\n",
       "      <td>...</td>\n",
       "      <td>...</td>\n",
       "      <td>...</td>\n",
       "      <td>...</td>\n",
       "      <td>...</td>\n",
       "      <td>...</td>\n",
       "      <td>...</td>\n",
       "      <td>...</td>\n",
       "    </tr>\n",
       "    <tr>\n",
       "      <th>870</th>\n",
       "      <td>71</td>\n",
       "      <td>F</td>\n",
       "      <td>160</td>\n",
       "      <td>302</td>\n",
       "      <td>Normal</td>\n",
       "      <td>162</td>\n",
       "      <td>N</td>\n",
       "      <td>0.4</td>\n",
       "      <td>Up</td>\n",
       "      <td>0</td>\n",
       "    </tr>\n",
       "    <tr>\n",
       "      <th>871</th>\n",
       "      <td>61</td>\n",
       "      <td>M</td>\n",
       "      <td>150</td>\n",
       "      <td>243</td>\n",
       "      <td>Normal</td>\n",
       "      <td>137</td>\n",
       "      <td>Y</td>\n",
       "      <td>1.0</td>\n",
       "      <td>Flat</td>\n",
       "      <td>0</td>\n",
       "    </tr>\n",
       "    <tr>\n",
       "      <th>872</th>\n",
       "      <td>55</td>\n",
       "      <td>M</td>\n",
       "      <td>132</td>\n",
       "      <td>353</td>\n",
       "      <td>Normal</td>\n",
       "      <td>132</td>\n",
       "      <td>Y</td>\n",
       "      <td>1.2</td>\n",
       "      <td>Flat</td>\n",
       "      <td>1</td>\n",
       "    </tr>\n",
       "    <tr>\n",
       "      <th>873</th>\n",
       "      <td>64</td>\n",
       "      <td>M</td>\n",
       "      <td>140</td>\n",
       "      <td>335</td>\n",
       "      <td>Normal</td>\n",
       "      <td>158</td>\n",
       "      <td>N</td>\n",
       "      <td>0.0</td>\n",
       "      <td>Up</td>\n",
       "      <td>1</td>\n",
       "    </tr>\n",
       "    <tr>\n",
       "      <th>874</th>\n",
       "      <td>43</td>\n",
       "      <td>M</td>\n",
       "      <td>150</td>\n",
       "      <td>247</td>\n",
       "      <td>Normal</td>\n",
       "      <td>171</td>\n",
       "      <td>N</td>\n",
       "      <td>1.5</td>\n",
       "      <td>Up</td>\n",
       "      <td>0</td>\n",
       "    </tr>\n",
       "  </tbody>\n",
       "</table>\n",
       "<p>875 rows × 10 columns</p>\n",
       "</div>"
      ],
      "text/plain": [
       "     Age   Sex  RestingBP  Cholesterol RestingECG  MaxHR ExerciseAngina  \\\n",
       "0     40  .M,.        140          289   NorM@al;    172              N   \n",
       "1     49     F        160          180     Normal    156              N   \n",
       "2     37  .M,.        130          283        ST.     98              N   \n",
       "3     48     F        138          214     Normal    108              Y   \n",
       "4     54     M        150          195     Normal    122              N   \n",
       "..   ...   ...        ...          ...        ...    ...            ...   \n",
       "870   71     F        160          302     Normal    162              N   \n",
       "871   61     M        150          243     Normal    137              Y   \n",
       "872   55     M        132          353     Normal    132              Y   \n",
       "873   64     M        140          335     Normal    158              N   \n",
       "874   43     M        150          247     Normal    171              N   \n",
       "\n",
       "     Oldpeak ST_Slope  HeartDisease  \n",
       "0        0.0       Up             0  \n",
       "1        1.0     Flat             1  \n",
       "2        0.0       UP             0  \n",
       "3        1.5     Flat             1  \n",
       "4        0.0       Up             0  \n",
       "..       ...      ...           ...  \n",
       "870      0.4       Up             0  \n",
       "871      1.0     Flat             0  \n",
       "872      1.2     Flat             1  \n",
       "873      0.0       Up             1  \n",
       "874      1.5       Up             0  \n",
       "\n",
       "[875 rows x 10 columns]"
      ]
     },
     "execution_count": 104,
     "metadata": {},
     "output_type": "execute_result"
    }
   ],
   "source": [
    "#deleting FastingBS and ChestPainType column since it has no influence on classification\n",
    "dataSet = pandas.read_csv(\"heart.csv\")\n",
    "dataSet.drop(['FastingBS','ChestPainType'], axis=1)"
   ]
  },
  {
   "cell_type": "markdown",
   "id": "1f322e23",
   "metadata": {},
   "source": [
    "# Checking if there's any missing value in our dataset"
   ]
  },
  {
   "cell_type": "code",
   "execution_count": 105,
   "id": "6804b60d",
   "metadata": {},
   "outputs": [
    {
     "data": {
      "text/plain": [
       "Age               0\n",
       "Sex               0\n",
       "ChestPainType     0\n",
       "RestingBP         0\n",
       "Cholesterol       0\n",
       "FastingBS         0\n",
       "RestingECG        0\n",
       "MaxHR             0\n",
       "ExerciseAngina    0\n",
       "Oldpeak           0\n",
       "ST_Slope          0\n",
       "HeartDisease      0\n",
       "dtype: int64"
      ]
     },
     "execution_count": 105,
     "metadata": {},
     "output_type": "execute_result"
    }
   ],
   "source": [
    "#printing Nan values for each attribute \n",
    "dataSet.isna().sum()"
   ]
  },
  {
   "cell_type": "markdown",
   "id": "51674b92",
   "metadata": {},
   "source": [
    "# Now the next step will be comparing the two classes we have to know how much is this dataset fair to use"
   ]
  },
  {
   "cell_type": "code",
   "execution_count": 106,
   "id": "ab81bc3e",
   "metadata": {},
   "outputs": [
    {
     "name": "stderr",
     "output_type": "stream",
     "text": [
      "C:\\Users\\LENOVO\\AppData\\Local\\Programs\\Python\\Python38\\lib\\site-packages\\seaborn\\_decorators.py:36: FutureWarning: Pass the following variables as keyword args: x, y. From version 0.12, the only valid positional argument will be `data`, and passing other arguments without an explicit keyword will result in an error or misinterpretation.\n",
      "  warnings.warn(\n"
     ]
    },
    {
     "name": "stdout",
     "output_type": "stream",
     "text": [
      "1    485\n",
      "0    390\n",
      "Name: HeartDisease, dtype: int64\n"
     ]
    },
    {
     "data": {
      "text/plain": [
       "<AxesSubplot:ylabel='HeartDisease'>"
      ]
     },
     "execution_count": 106,
     "metadata": {},
     "output_type": "execute_result"
    },
    {
     "data": {
      "image/png": "[encoded data removed]",
      "text/plain": [
       "<Figure size 432x288 with 1 Axes>"
      ]
     },
     "metadata": {
      "needs_background": "light"
     },
     "output_type": "display_data"
    }
   ],
   "source": [
    "\n",
    "column=dataSet['HeartDisease'].value_counts()\n",
    "print(column)\n",
    "\n",
    "sns.barplot(column.index,column)"
   ]
  },
  {
   "cell_type": "markdown",
   "id": "b94dcd3e",
   "metadata": {},
   "source": [
    "## Now we need to Normalise our dataset to give it to Learning Algorithms\n"
   ]
  },
  {
   "cell_type": "markdown",
   "id": "78bd7aa1",
   "metadata": {},
   "source": [
    "#### 1-First we normalize Age attribute"
   ]
  },
  {
   "cell_type": "code",
   "execution_count": 107,
   "id": "adda60ae",
   "metadata": {},
   "outputs": [
    {
     "name": "stderr",
     "output_type": "stream",
     "text": [
      "C:\\Users\\LENOVO\\AppData\\Local\\Programs\\Python\\Python38\\lib\\site-packages\\pandas\\core\\indexing.py:1732: SettingWithCopyWarning: \n",
      "A value is trying to be set on a copy of a slice from a DataFrame\n",
      "\n",
      "See the caveats in the documentation: https://pandas.pydata.org/pandas-docs/stable/user_guide/indexing.html#returning-a-view-versus-a-copy\n",
      "  self._setitem_single_block(indexer, value, name)\n"
     ]
    }
   ],
   "source": [
    "#normalizing Age attribute\n",
    "age_column = dataSet[\"Age\"]\n",
    "max_age = age_column.max()\n",
    "min_age = age_column.min()\n",
    "age_diff = max_age - min_age\n",
    "\n",
    "k = 0\n",
    "for cell in age_column:\n",
    "    new_value = (cell - min_age)/age_diff   \n",
    "    age_column.loc[k] = new_value\n",
    "    k = k+1\n",
    "\n"
   ]
  },
  {
   "cell_type": "markdown",
   "id": "bfef359f",
   "metadata": {},
   "source": [
    "#### 2-Second we normalize RestingBP attribute"
   ]
  },
  {
   "cell_type": "code",
   "execution_count": 108,
   "id": "58390430",
   "metadata": {},
   "outputs": [],
   "source": [
    "#normalizing RestingBp\n",
    "rbp_column = dataSet[\"RestingBP\"]\n",
    "max_rbp = rbp_column.max()\n",
    "min_rbp = rbp_column.min()\n",
    "rbp_diff = max_rbp - min_rbp\n",
    "\n",
    "k = 0\n",
    "for cell in rbp_column:\n",
    "    new_value = (cell - min_rbp)/rbp_diff   \n",
    "    rbp_column.loc[k] = new_value\n",
    "    k = k+1\n"
   ]
  },
  {
   "cell_type": "markdown",
   "id": "6c0e66f3",
   "metadata": {},
   "source": [
    "#### 3- Third we normalize the Cholesterol attribute"
   ]
  },
  {
   "cell_type": "code",
   "execution_count": 109,
   "id": "56846fb1",
   "metadata": {},
   "outputs": [],
   "source": [
    "#normalizing Cholesterol\n",
    "chol_column = dataSet[\"Cholesterol\"]\n",
    "max_chol = chol_column.max()\n",
    "min_chol = chol_column.min()\n",
    "chol_diff = max_chol - min_chol\n",
    "\n",
    "k = 0\n",
    "for cell in chol_column:\n",
    "    new_value = (cell - min_chol)/chol_diff   \n",
    "    chol_column.loc[k] = new_value\n",
    "    k = k+1"
   ]
  },
  {
   "cell_type": "markdown",
   "id": "de8ea1d4",
   "metadata": {},
   "source": [
    "### 4-Fourth MaxHr"
   ]
  },
  {
   "cell_type": "code",
   "execution_count": 110,
   "id": "7cd932ee",
   "metadata": {},
   "outputs": [],
   "source": [
    "#normalizing Cholesterol\n",
    "hr_column = dataSet[\"MaxHR\"]\n",
    "max_hr = hr_column.max()\n",
    "min_hr = hr_column.min()\n",
    "hr_diff = max_hr - min_hr\n",
    "\n",
    "k = 0\n",
    "for cell in hr_column:\n",
    "    new_value = (cell - min_hr)/hr_diff   \n",
    "    hr_column.loc[k] = new_value\n",
    "    k = k+1"
   ]
  },
  {
   "cell_type": "markdown",
   "id": "ef45b09d",
   "metadata": {},
   "source": [
    "#### 4-We print the data set now"
   ]
  },
  {
   "cell_type": "code",
   "execution_count": 111,
   "id": "d36878de",
   "metadata": {},
   "outputs": [
    {
     "name": "stdout",
     "output_type": "stream",
     "text": [
      "          Age   Sex ChestPainType  RestingBP  Cholesterol  FastingBS  \\\n",
      "0    0.244898  .M,.           ATA       0.70     0.479270          0   \n",
      "1    0.428571     F           NAP       0.80     0.298507          0   \n",
      "2    0.183673  .M,.           ATA       0.65     0.469320          0   \n",
      "3    0.408163     F           ASY       0.69     0.354892          0   \n",
      "4    0.530612     M           NAP       0.75     0.323383          0   \n",
      "..        ...   ...           ...        ...          ...        ...   \n",
      "870  0.877551     F           ATA       0.80     0.500829          0   \n",
      "871  0.673469     M           NAP       0.75     0.402985          1   \n",
      "872  0.551020     M           ASY       0.66     0.585406          0   \n",
      "873  0.734694     M           NAP       0.70     0.555556          0   \n",
      "874  0.306122     M           ASY       0.75     0.409619          0   \n",
      "\n",
      "    RestingECG     MaxHR ExerciseAngina  Oldpeak ST_Slope  HeartDisease  \n",
      "0     NorM@al;  0.788732              N      0.0       Up             0  \n",
      "1       Normal  0.676056              N      1.0     Flat             1  \n",
      "2          ST.  0.267606              N      0.0       UP             0  \n",
      "3       Normal  0.338028              Y      1.5     Flat             1  \n",
      "4       Normal  0.436620              N      0.0       Up             0  \n",
      "..         ...       ...            ...      ...      ...           ...  \n",
      "870     Normal  0.718310              N      0.4       Up             0  \n",
      "871     Normal  0.542254              Y      1.0     Flat             0  \n",
      "872     Normal  0.507042              Y      1.2     Flat             1  \n",
      "873     Normal  0.690141              N      0.0       Up             1  \n",
      "874     Normal  0.781690              N      1.5       Up             0  \n",
      "\n",
      "[875 rows x 12 columns]\n"
     ]
    }
   ],
   "source": [
    "print(dataSet)"
   ]
  },
  {
   "cell_type": "markdown",
   "id": "82d246c9",
   "metadata": {},
   "source": [
    "## Now We recognize some malformed Textual Data for example \"NORMAL\" is the same as \"NorM@al;\" and \"up\" is the same as \"UP,\"\n",
    "\n",
    "\n",
    "### then we need to fix all textual attributes"
   ]
  },
  {
   "cell_type": "code",
   "execution_count": 112,
   "id": "8f8a37dc",
   "metadata": {},
   "outputs": [
    {
     "name": "stderr",
     "output_type": "stream",
     "text": [
      "C:\\Users\\LENOVO\\AppData\\Local\\Programs\\Python\\Python38\\lib\\site-packages\\pandas\\core\\indexing.py:1732: SettingWithCopyWarning: \n",
      "A value is trying to be set on a copy of a slice from a DataFrame\n",
      "\n",
      "See the caveats in the documentation: https://pandas.pydata.org/pandas-docs/stable/user_guide/indexing.html#returning-a-view-versus-a-copy\n",
      "  self._setitem_single_block(indexer, value, name)\n"
     ]
    },
    {
     "data": {
      "text/plain": [
       "numpy.void"
      ]
     },
     "execution_count": 112,
     "metadata": {},
     "output_type": "execute_result"
    }
   ],
   "source": [
    "#replacing bad characters like @ ; , . ext...\n",
    "restingecg_column = dataSet[\"RestingECG\"]\n",
    "chestpain_column=dataSet[\"ChestPainType\"]\n",
    "sex_column = dataSet[\"Sex\"]\n",
    "stslope_column = dataSet[\"ST_Slope\"]\n",
    "exercieangina_column = dataSet[\"ExerciseAngina\"]\n",
    "\n",
    "### this method cleans teh text from unwated characters and transforms it to lower case\n",
    "def cleanText(cell):\n",
    "    string = str(cell).lower()\n",
    "    #\n",
    "    string = string.replace(\".\",\"\")\n",
    "    #\n",
    "    string = string.replace(\",\",\"\") \n",
    "    #\n",
    "    string = string.replace(\"@\",\"\")    \n",
    "    #\n",
    "    string = string.replace(\";\",\"\")      \n",
    "    #\n",
    "    string = string.replace(\"-\",\"\")      \n",
    "    return string\n",
    "\n",
    "### this method edit a column\n",
    "def cleanColumn(column):\n",
    "      k = 0\n",
    "      for cell in column:\n",
    "            column.loc[k] = cleanText(cell)\n",
    "            k = k + 1\n",
    "      return np.void\n",
    "\n",
    "k = 0\n",
    "\n",
    "#restingECG column cleaning\n",
    "cleanColumn(restingecg_column)\n",
    "#chestPain column cleaning\n",
    "cleanColumn(chestpain_column)\n",
    "#SEX column cleaning\n",
    "cleanColumn(sex_column)\n",
    "#ST_Slope column cleaning\n",
    "cleanColumn(stslope_column)\n",
    "#ExerciseAngina column cleaning\n",
    "cleanColumn(exercieangina_column)\n",
    "  "
   ]
  },
  {
   "cell_type": "markdown",
   "id": "9d19ac6a",
   "metadata": {},
   "source": [
    "## And we print the dataset again"
   ]
  },
  {
   "cell_type": "code",
   "execution_count": 113,
   "id": "b812dc07",
   "metadata": {},
   "outputs": [
    {
     "name": "stdout",
     "output_type": "stream",
     "text": [
      "          Age Sex ChestPainType  RestingBP  Cholesterol  FastingBS RestingECG  \\\n",
      "0    0.244898   m           ata       0.70     0.479270          0     normal   \n",
      "1    0.428571   f           nap       0.80     0.298507          0     normal   \n",
      "2    0.183673   m           ata       0.65     0.469320          0         st   \n",
      "3    0.408163   f           asy       0.69     0.354892          0     normal   \n",
      "4    0.530612   m           nap       0.75     0.323383          0     normal   \n",
      "..        ...  ..           ...        ...          ...        ...        ...   \n",
      "870  0.877551   f           ata       0.80     0.500829          0     normal   \n",
      "871  0.673469   m           nap       0.75     0.402985          1     normal   \n",
      "872  0.551020   m           asy       0.66     0.585406          0     normal   \n",
      "873  0.734694   m           nap       0.70     0.555556          0     normal   \n",
      "874  0.306122   m           asy       0.75     0.409619          0     normal   \n",
      "\n",
      "        MaxHR ExerciseAngina  Oldpeak ST_Slope  HeartDisease  \n",
      "0    0.788732              n      0.0       up             0  \n",
      "1    0.676056              n      1.0     flat             1  \n",
      "2    0.267606              n      0.0       up             0  \n",
      "3    0.338028              y      1.5     flat             1  \n",
      "4    0.436620              n      0.0       up             0  \n",
      "..        ...            ...      ...      ...           ...  \n",
      "870  0.718310              n      0.4       up             0  \n",
      "871  0.542254              y      1.0     flat             0  \n",
      "872  0.507042              y      1.2     flat             1  \n",
      "873  0.690141              n      0.0       up             1  \n",
      "874  0.781690              n      1.5       up             0  \n",
      "\n",
      "[875 rows x 12 columns]\n"
     ]
    }
   ],
   "source": [
    "print(dataSet)"
   ]
  },
  {
   "cell_type": "markdown",
   "id": "405565b1",
   "metadata": {},
   "source": [
    "# Now we will apply learning algorithms on our dataset"
   ]
  },
  {
   "cell_type": "markdown",
   "id": "d3380c38",
   "metadata": {},
   "source": [
    "##1-KNN with k = 3 and k = 5 and k = 11"
   ]
  },
  {
   "cell_type": "code",
   "execution_count": 114,
   "id": "69a3b89a",
   "metadata": {},
   "outputs": [
    {
     "name": "stderr",
     "output_type": "stream",
     "text": [
      "C:\\Users\\LENOVO\\AppData\\Local\\Programs\\Python\\Python38\\lib\\site-packages\\pandas\\core\\indexing.py:1732: SettingWithCopyWarning: \n",
      "A value is trying to be set on a copy of a slice from a DataFrame\n",
      "\n",
      "See the caveats in the documentation: https://pandas.pydata.org/pandas-docs/stable/user_guide/indexing.html#returning-a-view-versus-a-copy\n",
      "  self._setitem_single_block(indexer, value, name)\n"
     ]
    },
    {
     "name": "stdout",
     "output_type": "stream",
     "text": [
      "          Age Sex  RestingBP  Cholesterol  FastingBS RestingECG     MaxHR  \\\n",
      "179  0.367347   0      0.650     0.394693          0          1  0.211268   \n",
      "511  0.714286   1      0.800     0.442786          1          0  0.197183   \n",
      "43   0.489796   1      0.700     0.429519          0          0  0.774648   \n",
      "410  0.693878   1      0.750     0.000000          1          0  0.126761   \n",
      "431  0.693878   1      0.600     0.364842          0          0  0.183099   \n",
      "..        ...  ..        ...          ...        ...        ...       ...   \n",
      "217  0.530612   1      0.600     0.359867          0          1  0.542254   \n",
      "35   0.081633   1      0.625     0.421227          0          1  0.669014   \n",
      "857  0.510204   0      0.650     0.437811          0        0.5  0.584507   \n",
      "524  0.551020   1      0.750     0.265340          0          0  0.633803   \n",
      "374  0.673469   1      0.625     0.000000          0          1  0.316901   \n",
      "\n",
      "    ExerciseAngina  Oldpeak ST_Slope  \n",
      "179              0      0.0        1  \n",
      "511              1      2.0        0  \n",
      "43               0      0.0        1  \n",
      "410              0      2.0        0  \n",
      "431              0      0.0        1  \n",
      "..             ...      ...      ...  \n",
      "217              0      0.0        1  \n",
      "35               0      0.0        1  \n",
      "857              0      0.4        0  \n",
      "524              0      0.0        1  \n",
      "374              1      0.0      0.5  \n",
      "\n",
      "[219 rows x 10 columns]\n",
      "          Age Sex  RestingBP  Cholesterol  FastingBS RestingECG     MaxHR  \\\n",
      "0    0.244898   1       0.70     0.479270          0          1  0.788732   \n",
      "1    0.428571   0       0.80     0.298507          0          1  0.676056   \n",
      "2    0.183673   1       0.65     0.469320          0          0  0.267606   \n",
      "3    0.408163   0       0.69     0.354892          0          1  0.338028   \n",
      "4    0.530612   1       0.75     0.323383          0          1  0.436620   \n",
      "..        ...  ..        ...          ...        ...        ...       ...   \n",
      "870  0.877551   0       0.80     0.500829          0          1  0.718310   \n",
      "871  0.673469   1       0.75     0.402985          1          1  0.542254   \n",
      "872  0.551020   1       0.66     0.585406          0          1  0.507042   \n",
      "873  0.734694   1       0.70     0.555556          0          1  0.690141   \n",
      "874  0.306122   1       0.75     0.409619          0          1  0.781690   \n",
      "\n",
      "    ExerciseAngina  Oldpeak ST_Slope  \n",
      "0                0      0.0        1  \n",
      "1                0      1.0        0  \n",
      "2                0      0.0        1  \n",
      "3                1      1.5        0  \n",
      "4                0      0.0        1  \n",
      "..             ...      ...      ...  \n",
      "870              0      0.4        1  \n",
      "871              1      1.0        0  \n",
      "872              1      1.2        0  \n",
      "873              0      0.0        1  \n",
      "874              0      1.5        1  \n",
      "\n",
      "[875 rows x 10 columns]\n"
     ]
    }
   ],
   "source": [
    "\n",
    "#converting strings to numbers\n",
    "\n",
    "##sex\n",
    "k = 0\n",
    "for cell in sex_column:\n",
    "    string = str(cell).replace(\"m\",'1').replace(\"f\",'0')\n",
    "    sex_column.loc[k] = string\n",
    "    k = k+1\n",
    "\n",
    "##ExcerciceAngina\n",
    "k=0\n",
    "for cell in exercieangina_column:\n",
    "    string = str(cell).replace(\"y\",'1').replace(\"n\",'0')\n",
    "    exercieangina_column.loc[k] = string\n",
    "    k = k+1\n",
    "\n",
    "##RestingEcg\n",
    "k = 0\n",
    "for cell in restingecg_column:\n",
    "    string = str(cell).replace(\"normal\",'1').replace(\"st\",'0').replace(\"lvh\",\"0.5\")\n",
    "    restingecg_column.loc[k] = string\n",
    "    k = k+1    \n",
    "\n",
    "##ChestPainType\n",
    "k = 0\n",
    "for cell in chestpain_column:\n",
    "    string = str(cell).replace(\"ata\",'1').replace(\"nap\",'0').replace(\"asy\",\"0.5\")\n",
    "    chestpain_column.loc[k] = string\n",
    "    k = k+1    \n",
    "\n",
    "##ST_SLOPE\n",
    "k = 0\n",
    "for cell in stslope_column:\n",
    "    string = str(cell).replace(\"up\",'1').replace(\"flat\",'0').replace(\"down\",\"0.5\")\n",
    "    stslope_column.loc[k] = string\n",
    "    k = k+1    \n",
    "\n",
    "\n",
    "#splitting the data set into training and test\n",
    "x = dataSet.drop(['HeartDisease','ChestPainType'],axis=1)\n",
    "y = dataSet['HeartDisease']\n",
    "\n",
    "X_train,X_test,  y_train, y_test,= train_test_split(x,y,test_size=0.25,random_state = 10)\n",
    "print(X_test)\n",
    "# preparing the algorithm\n",
    "from sklearn.neighbors import KNeighborsClassifier\n",
    "knn3 = KNeighborsClassifier(n_neighbors = 3)\n",
    "knn5 = KNeighborsClassifier(n_neighbors = 5)\n",
    "knn11 = KNeighborsClassifier(n_neighbors = 11)\n",
    "#\n",
    "#print(x_train)\n",
    "#print(y_train)\n",
    "\n",
    "knn3.fit(X_train,y_train)\n",
    "knn5.fit(X_train,y_train)\n",
    "knn11.fit(X_train,y_train)\n",
    "\n",
    "#\n",
    "x3=knn3.predict(X_test)\n",
    "x5=knn5.predict(X_test)\n",
    "x11=knn11.predict(X_test)\n",
    "#\n",
    "x3Pro=knn3.predict_proba(X_test)\n",
    "x5Pro=knn5.predict_proba(X_test)\n",
    "x11Pro=knn11.predict_proba(X_test)\n",
    "\n",
    "print(x)\n"
   ]
  },
  {
   "cell_type": "code",
   "execution_count": 119,
   "id": "c5cfc7a8",
   "metadata": {},
   "outputs": [
    {
     "name": "stdout",
     "output_type": "stream",
     "text": [
      "0.37206948895260594\n",
      "0.5013493000505989\n",
      "0.40900657783774674\n"
     ]
    }
   ],
   "source": [
    "\n",
    "#evualtion part\n",
    "from sklearn import metrics\n",
    "#prediction on test data\n",
    "x3_score = metrics.r2_score(y_test,x3)\n",
    "x5_score = metrics.r2_score(y_test,x5)\n",
    "x11_score = metrics.r2_score(y_test,x11)\n",
    "\n",
    "print(x3_score)\n",
    "print(x5_score)\n",
    "print(x11_score)"
   ]
  },
  {
   "cell_type": "markdown",
   "id": "56bfc99e",
   "metadata": {},
   "source": [
    "# Now we predict a new data"
   ]
  },
  {
   "cell_type": "code",
   "execution_count": 129,
   "id": "102f45c7",
   "metadata": {},
   "outputs": [
    {
     "name": "stdout",
     "output_type": "stream",
     "text": [
      "The new element prediction is:  HeartDiseased\n"
     ]
    },
    {
     "name": "stderr",
     "output_type": "stream",
     "text": [
      "C:\\Users\\LENOVO\\AppData\\Local\\Programs\\Python\\Python38\\lib\\site-packages\\sklearn\\base.py:445: UserWarning: X does not have valid feature names, but KNeighborsClassifier was fitted with feature names\n",
      "  warnings.warn(\n"
     ]
    }
   ],
   "source": [
    "#a new normalized input\n",
    "input = (0.66,1,0.650,0.49,1,0.5,0.801,0,1.2,1)\n",
    "input_array = np.asarray(input)\n",
    "reshaped = input_array.reshape(1,-1)\n",
    "prediction = knn5.predict(reshaped)\n",
    "\n",
    "result = ''\n",
    "\n",
    "if prediction == 1 : result ='HeartDiseased'\n",
    "else:\n",
    " result ='undiseased yay '\n",
    "\n",
    "print(\"The new element prediction is: \", result)"
   ]
  }
 ],
 "metadata": {
  "kernelspec": {
   "display_name": "Python 3 (ipykernel)",
   "language": "python",
   "name": "python3"
  },
  "language_info": {
   "codemirror_mode": {
    "name": "ipython",
    "version": 3
   },
   "file_extension": ".py",
   "mimetype": "text/x-python",
   "name": "python",
   "nbconvert_exporter": "python",
   "pygments_lexer": "ipython3",
   "version": "3.8.10"
  }
 },
 "nbformat": 4,
 "nbformat_minor": 5
}
